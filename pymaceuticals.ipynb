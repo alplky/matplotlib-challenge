{
 "cells": [
  {
   "cell_type": "markdown",
   "metadata": {},
   "source": [
    "## Observations and Insights "
   ]
  },
  {
   "cell_type": "markdown",
   "metadata": {},
   "source": [
    "#### The results over the 45 days of the study show that Capomulin is the most effective treatment when compared to the 9 other treatment regimens. One treatment that does show promise alongside Capomulin is Ramicine. Both treatments show close to comparable quartile ranges as well as a close Interquartile Range at 7.781863 and 9.098537 respectively. Additionally, neither treatment has any outliers skewing the data. While the Capomulin treatment does appear to have the best effect at reducing tumor volume significantly, Ramicine should be considered and further researched as an additional treatment for future studies. When observing the mice treated by Capomulin, the data show that the weight of mice may determine the tumor volume. On average, smaller mice have smaller tumors and larger mice have larger tumors. It may be worth considering testing different treatment regimens on mice by weight to discover if smaller or larger tumors need more of less time for treatment. "
   ]
  },
  {
   "cell_type": "code",
   "execution_count": 1,
   "metadata": {},
   "outputs": [
    {
     "data": {
      "text/html": [
       "<div>\n",
       "<style scoped>\n",
       "    .dataframe tbody tr th:only-of-type {\n",
       "        vertical-align: middle;\n",
       "    }\n",
       "\n",
       "    .dataframe tbody tr th {\n",
       "        vertical-align: top;\n",
       "    }\n",
       "\n",
       "    .dataframe thead th {\n",
       "        text-align: right;\n",
       "    }\n",
       "</style>\n",
       "<table border=\"1\" class=\"dataframe\">\n",
       "  <thead>\n",
       "    <tr style=\"text-align: right;\">\n",
       "      <th></th>\n",
       "      <th>Mouse ID</th>\n",
       "      <th>Drug Regimen</th>\n",
       "      <th>Sex</th>\n",
       "      <th>Age_months</th>\n",
       "      <th>Weight (g)</th>\n",
       "      <th>Timepoint</th>\n",
       "      <th>Tumor Volume (mm3)</th>\n",
       "      <th>Metastatic Sites</th>\n",
       "    </tr>\n",
       "  </thead>\n",
       "  <tbody>\n",
       "    <tr>\n",
       "      <th>0</th>\n",
       "      <td>k403</td>\n",
       "      <td>Ramicane</td>\n",
       "      <td>Male</td>\n",
       "      <td>21</td>\n",
       "      <td>16</td>\n",
       "      <td>0</td>\n",
       "      <td>45.000000</td>\n",
       "      <td>0</td>\n",
       "    </tr>\n",
       "    <tr>\n",
       "      <th>1</th>\n",
       "      <td>k403</td>\n",
       "      <td>Ramicane</td>\n",
       "      <td>Male</td>\n",
       "      <td>21</td>\n",
       "      <td>16</td>\n",
       "      <td>5</td>\n",
       "      <td>38.825898</td>\n",
       "      <td>0</td>\n",
       "    </tr>\n",
       "    <tr>\n",
       "      <th>2</th>\n",
       "      <td>k403</td>\n",
       "      <td>Ramicane</td>\n",
       "      <td>Male</td>\n",
       "      <td>21</td>\n",
       "      <td>16</td>\n",
       "      <td>10</td>\n",
       "      <td>35.014271</td>\n",
       "      <td>1</td>\n",
       "    </tr>\n",
       "    <tr>\n",
       "      <th>3</th>\n",
       "      <td>k403</td>\n",
       "      <td>Ramicane</td>\n",
       "      <td>Male</td>\n",
       "      <td>21</td>\n",
       "      <td>16</td>\n",
       "      <td>15</td>\n",
       "      <td>34.223992</td>\n",
       "      <td>1</td>\n",
       "    </tr>\n",
       "    <tr>\n",
       "      <th>4</th>\n",
       "      <td>k403</td>\n",
       "      <td>Ramicane</td>\n",
       "      <td>Male</td>\n",
       "      <td>21</td>\n",
       "      <td>16</td>\n",
       "      <td>20</td>\n",
       "      <td>32.997729</td>\n",
       "      <td>1</td>\n",
       "    </tr>\n",
       "    <tr>\n",
       "      <th>...</th>\n",
       "      <td>...</td>\n",
       "      <td>...</td>\n",
       "      <td>...</td>\n",
       "      <td>...</td>\n",
       "      <td>...</td>\n",
       "      <td>...</td>\n",
       "      <td>...</td>\n",
       "      <td>...</td>\n",
       "    </tr>\n",
       "    <tr>\n",
       "      <th>1888</th>\n",
       "      <td>z969</td>\n",
       "      <td>Naftisol</td>\n",
       "      <td>Male</td>\n",
       "      <td>9</td>\n",
       "      <td>30</td>\n",
       "      <td>25</td>\n",
       "      <td>63.145652</td>\n",
       "      <td>2</td>\n",
       "    </tr>\n",
       "    <tr>\n",
       "      <th>1889</th>\n",
       "      <td>z969</td>\n",
       "      <td>Naftisol</td>\n",
       "      <td>Male</td>\n",
       "      <td>9</td>\n",
       "      <td>30</td>\n",
       "      <td>30</td>\n",
       "      <td>65.841013</td>\n",
       "      <td>3</td>\n",
       "    </tr>\n",
       "    <tr>\n",
       "      <th>1890</th>\n",
       "      <td>z969</td>\n",
       "      <td>Naftisol</td>\n",
       "      <td>Male</td>\n",
       "      <td>9</td>\n",
       "      <td>30</td>\n",
       "      <td>35</td>\n",
       "      <td>69.176246</td>\n",
       "      <td>4</td>\n",
       "    </tr>\n",
       "    <tr>\n",
       "      <th>1891</th>\n",
       "      <td>z969</td>\n",
       "      <td>Naftisol</td>\n",
       "      <td>Male</td>\n",
       "      <td>9</td>\n",
       "      <td>30</td>\n",
       "      <td>40</td>\n",
       "      <td>70.314904</td>\n",
       "      <td>4</td>\n",
       "    </tr>\n",
       "    <tr>\n",
       "      <th>1892</th>\n",
       "      <td>z969</td>\n",
       "      <td>Naftisol</td>\n",
       "      <td>Male</td>\n",
       "      <td>9</td>\n",
       "      <td>30</td>\n",
       "      <td>45</td>\n",
       "      <td>73.867845</td>\n",
       "      <td>4</td>\n",
       "    </tr>\n",
       "  </tbody>\n",
       "</table>\n",
       "<p>1893 rows × 8 columns</p>\n",
       "</div>"
      ],
      "text/plain": [
       "     Mouse ID Drug Regimen   Sex  Age_months  Weight (g)  Timepoint  \\\n",
       "0        k403     Ramicane  Male          21          16          0   \n",
       "1        k403     Ramicane  Male          21          16          5   \n",
       "2        k403     Ramicane  Male          21          16         10   \n",
       "3        k403     Ramicane  Male          21          16         15   \n",
       "4        k403     Ramicane  Male          21          16         20   \n",
       "...       ...          ...   ...         ...         ...        ...   \n",
       "1888     z969     Naftisol  Male           9          30         25   \n",
       "1889     z969     Naftisol  Male           9          30         30   \n",
       "1890     z969     Naftisol  Male           9          30         35   \n",
       "1891     z969     Naftisol  Male           9          30         40   \n",
       "1892     z969     Naftisol  Male           9          30         45   \n",
       "\n",
       "      Tumor Volume (mm3)  Metastatic Sites  \n",
       "0              45.000000                 0  \n",
       "1              38.825898                 0  \n",
       "2              35.014271                 1  \n",
       "3              34.223992                 1  \n",
       "4              32.997729                 1  \n",
       "...                  ...               ...  \n",
       "1888           63.145652                 2  \n",
       "1889           65.841013                 3  \n",
       "1890           69.176246                 4  \n",
       "1891           70.314904                 4  \n",
       "1892           73.867845                 4  \n",
       "\n",
       "[1893 rows x 8 columns]"
      ]
     },
     "execution_count": 1,
     "metadata": {},
     "output_type": "execute_result"
    },
    {
     "data": {
      "application/javascript": [
       "\n",
       "            setTimeout(function() {\n",
       "                var nbb_cell_id = 1;\n",
       "                var nbb_unformatted_code = \"# Dependencies and Setup\\nimport matplotlib.pyplot as plt\\nimport pandas as pd\\nimport numpy as np\\nfrom sklearn.linear_model import LinearRegression\\n%reload_ext nb_black\\n\\n# Study data files\\nmouse_metadata_path = \\\"data/Mouse_metadata.csv\\\"\\nstudy_results_path = \\\"data/Study_results.csv\\\"\\n\\n# Read the mouse data and the study results\\nmouse_metadata = pd.read_csv(mouse_metadata_path)\\nstudy_results = pd.read_csv(study_results_path)\\n\\n# Combine the data into a single dataset\\nmouse_metadata_df = pd.DataFrame(mouse_metadata)\\nstudy_results_df = pd.DataFrame(study_results)\\n\\nmerged_data = pd.merge(mouse_metadata_df, study_results_df, on=\\\"Mouse ID\\\", how=\\\"outer\\\")\\n\\n# Display the data table for preview\\nmerged_data\";\n",
       "                var nbb_formatted_code = \"# Dependencies and Setup\\nimport matplotlib.pyplot as plt\\nimport pandas as pd\\nimport numpy as np\\nfrom sklearn.linear_model import LinearRegression\\n\\n%reload_ext nb_black\\n\\n# Study data files\\nmouse_metadata_path = \\\"data/Mouse_metadata.csv\\\"\\nstudy_results_path = \\\"data/Study_results.csv\\\"\\n\\n# Read the mouse data and the study results\\nmouse_metadata = pd.read_csv(mouse_metadata_path)\\nstudy_results = pd.read_csv(study_results_path)\\n\\n# Combine the data into a single dataset\\nmouse_metadata_df = pd.DataFrame(mouse_metadata)\\nstudy_results_df = pd.DataFrame(study_results)\\n\\nmerged_data = pd.merge(mouse_metadata_df, study_results_df, on=\\\"Mouse ID\\\", how=\\\"outer\\\")\\n\\n# Display the data table for preview\\nmerged_data\";\n",
       "                var nbb_cells = Jupyter.notebook.get_cells();\n",
       "                for (var i = 0; i < nbb_cells.length; ++i) {\n",
       "                    if (nbb_cells[i].input_prompt_number == nbb_cell_id) {\n",
       "                        if (nbb_cells[i].get_text() == nbb_unformatted_code) {\n",
       "                             nbb_cells[i].set_text(nbb_formatted_code);\n",
       "                        }\n",
       "                        break;\n",
       "                    }\n",
       "                }\n",
       "            }, 500);\n",
       "            "
      ],
      "text/plain": [
       "<IPython.core.display.Javascript object>"
      ]
     },
     "metadata": {},
     "output_type": "display_data"
    }
   ],
   "source": [
    "# Dependencies and Setup\n",
    "import matplotlib.pyplot as plt\n",
    "import pandas as pd\n",
    "import numpy as np\n",
    "from sklearn.linear_model import LinearRegression\n",
    "%reload_ext nb_black\n",
    "\n",
    "# Study data files\n",
    "mouse_metadata_path = \"data/Mouse_metadata.csv\"\n",
    "study_results_path = \"data/Study_results.csv\"\n",
    "\n",
    "# Read the mouse data and the study results\n",
    "mouse_metadata = pd.read_csv(mouse_metadata_path)\n",
    "study_results = pd.read_csv(study_results_path)\n",
    "\n",
    "# Combine the data into a single dataset\n",
    "mouse_metadata_df = pd.DataFrame(mouse_metadata)\n",
    "study_results_df = pd.DataFrame(study_results)\n",
    "\n",
    "merged_data = pd.merge(mouse_metadata_df, study_results_df, on=\"Mouse ID\", how=\"outer\")\n",
    "\n",
    "# Display the data table for preview\n",
    "merged_data"
   ]
  },
  {
   "cell_type": "code",
   "execution_count": 2,
   "metadata": {},
   "outputs": [
    {
     "data": {
      "text/plain": [
       "249"
      ]
     },
     "execution_count": 2,
     "metadata": {},
     "output_type": "execute_result"
    },
    {
     "data": {
      "application/javascript": [
       "\n",
       "            setTimeout(function() {\n",
       "                var nbb_cell_id = 2;\n",
       "                var nbb_unformatted_code = \"# Checking the number of mice.\\nnumber_of_mice = merged_data[\\\"Mouse ID\\\"].nunique()\\nnumber_of_mice\";\n",
       "                var nbb_formatted_code = \"# Checking the number of mice.\\nnumber_of_mice = merged_data[\\\"Mouse ID\\\"].nunique()\\nnumber_of_mice\";\n",
       "                var nbb_cells = Jupyter.notebook.get_cells();\n",
       "                for (var i = 0; i < nbb_cells.length; ++i) {\n",
       "                    if (nbb_cells[i].input_prompt_number == nbb_cell_id) {\n",
       "                        if (nbb_cells[i].get_text() == nbb_unformatted_code) {\n",
       "                             nbb_cells[i].set_text(nbb_formatted_code);\n",
       "                        }\n",
       "                        break;\n",
       "                    }\n",
       "                }\n",
       "            }, 500);\n",
       "            "
      ],
      "text/plain": [
       "<IPython.core.display.Javascript object>"
      ]
     },
     "metadata": {},
     "output_type": "display_data"
    }
   ],
   "source": [
    "# Checking the number of mice.\n",
    "number_of_mice = merged_data[\"Mouse ID\"].nunique()\n",
    "number_of_mice"
   ]
  },
  {
   "cell_type": "code",
   "execution_count": 3,
   "metadata": {},
   "outputs": [
    {
     "data": {
      "text/html": [
       "<div>\n",
       "<style scoped>\n",
       "    .dataframe tbody tr th:only-of-type {\n",
       "        vertical-align: middle;\n",
       "    }\n",
       "\n",
       "    .dataframe tbody tr th {\n",
       "        vertical-align: top;\n",
       "    }\n",
       "\n",
       "    .dataframe thead th {\n",
       "        text-align: right;\n",
       "    }\n",
       "</style>\n",
       "<table border=\"1\" class=\"dataframe\">\n",
       "  <thead>\n",
       "    <tr style=\"text-align: right;\">\n",
       "      <th></th>\n",
       "      <th>Mouse ID</th>\n",
       "      <th>Timepoint</th>\n",
       "    </tr>\n",
       "  </thead>\n",
       "  <tbody>\n",
       "    <tr>\n",
       "      <th>909</th>\n",
       "      <td>g989</td>\n",
       "      <td>0</td>\n",
       "    </tr>\n",
       "    <tr>\n",
       "      <th>911</th>\n",
       "      <td>g989</td>\n",
       "      <td>5</td>\n",
       "    </tr>\n",
       "    <tr>\n",
       "      <th>913</th>\n",
       "      <td>g989</td>\n",
       "      <td>10</td>\n",
       "    </tr>\n",
       "    <tr>\n",
       "      <th>915</th>\n",
       "      <td>g989</td>\n",
       "      <td>15</td>\n",
       "    </tr>\n",
       "    <tr>\n",
       "      <th>917</th>\n",
       "      <td>g989</td>\n",
       "      <td>20</td>\n",
       "    </tr>\n",
       "  </tbody>\n",
       "</table>\n",
       "</div>"
      ],
      "text/plain": [
       "    Mouse ID  Timepoint\n",
       "909     g989          0\n",
       "911     g989          5\n",
       "913     g989         10\n",
       "915     g989         15\n",
       "917     g989         20"
      ]
     },
     "execution_count": 3,
     "metadata": {},
     "output_type": "execute_result"
    },
    {
     "data": {
      "application/javascript": [
       "\n",
       "            setTimeout(function() {\n",
       "                var nbb_cell_id = 3;\n",
       "                var nbb_unformatted_code = \"# Getting the duplicate mice by ID number that shows up for Mouse ID and Timepoint\\n#create dataframe of mouse id and timepoint columns\\nduplicate_mice_df = merged_data[[\\\"Mouse ID\\\", \\\"Timepoint\\\"]]\\n\\n#select duplicate rows across all columns in duplicate_mice_df\\nduplicates = duplicate_mice_df[duplicate_mice_df.duplicated(keep=\\\"first\\\")]\\n\\nduplicates\";\n",
       "                var nbb_formatted_code = \"# Getting the duplicate mice by ID number that shows up for Mouse ID and Timepoint\\n# create dataframe of mouse id and timepoint columns\\nduplicate_mice_df = merged_data[[\\\"Mouse ID\\\", \\\"Timepoint\\\"]]\\n\\n# select duplicate rows across all columns in duplicate_mice_df\\nduplicates = duplicate_mice_df[duplicate_mice_df.duplicated(keep=\\\"first\\\")]\\n\\nduplicates\";\n",
       "                var nbb_cells = Jupyter.notebook.get_cells();\n",
       "                for (var i = 0; i < nbb_cells.length; ++i) {\n",
       "                    if (nbb_cells[i].input_prompt_number == nbb_cell_id) {\n",
       "                        if (nbb_cells[i].get_text() == nbb_unformatted_code) {\n",
       "                             nbb_cells[i].set_text(nbb_formatted_code);\n",
       "                        }\n",
       "                        break;\n",
       "                    }\n",
       "                }\n",
       "            }, 500);\n",
       "            "
      ],
      "text/plain": [
       "<IPython.core.display.Javascript object>"
      ]
     },
     "metadata": {},
     "output_type": "display_data"
    }
   ],
   "source": [
    "# Getting the duplicate mice by ID number that shows up for Mouse ID and Timepoint\n",
    "#create dataframe of mouse id and timepoint columns\n",
    "duplicate_mice_df = merged_data[[\"Mouse ID\", \"Timepoint\"]]\n",
    "\n",
    "#select duplicate rows across all columns in duplicate_mice_df\n",
    "duplicates = duplicate_mice_df[duplicate_mice_df.duplicated(keep=\"first\")]\n",
    "\n",
    "duplicates"
   ]
  },
  {
   "cell_type": "code",
   "execution_count": 4,
   "metadata": {},
   "outputs": [
    {
     "data": {
      "text/html": [
       "<div>\n",
       "<style scoped>\n",
       "    .dataframe tbody tr th:only-of-type {\n",
       "        vertical-align: middle;\n",
       "    }\n",
       "\n",
       "    .dataframe tbody tr th {\n",
       "        vertical-align: top;\n",
       "    }\n",
       "\n",
       "    .dataframe thead th {\n",
       "        text-align: right;\n",
       "    }\n",
       "</style>\n",
       "<table border=\"1\" class=\"dataframe\">\n",
       "  <thead>\n",
       "    <tr style=\"text-align: right;\">\n",
       "      <th></th>\n",
       "      <th>Mouse ID</th>\n",
       "      <th>Drug Regimen</th>\n",
       "      <th>Sex</th>\n",
       "      <th>Age_months</th>\n",
       "      <th>Weight (g)</th>\n",
       "      <th>Timepoint</th>\n",
       "      <th>Tumor Volume (mm3)</th>\n",
       "      <th>Metastatic Sites</th>\n",
       "    </tr>\n",
       "  </thead>\n",
       "  <tbody>\n",
       "    <tr>\n",
       "      <th>908</th>\n",
       "      <td>g989</td>\n",
       "      <td>Propriva</td>\n",
       "      <td>Female</td>\n",
       "      <td>21</td>\n",
       "      <td>26</td>\n",
       "      <td>0</td>\n",
       "      <td>45.000000</td>\n",
       "      <td>0</td>\n",
       "    </tr>\n",
       "    <tr>\n",
       "      <th>909</th>\n",
       "      <td>g989</td>\n",
       "      <td>Propriva</td>\n",
       "      <td>Female</td>\n",
       "      <td>21</td>\n",
       "      <td>26</td>\n",
       "      <td>0</td>\n",
       "      <td>45.000000</td>\n",
       "      <td>0</td>\n",
       "    </tr>\n",
       "    <tr>\n",
       "      <th>910</th>\n",
       "      <td>g989</td>\n",
       "      <td>Propriva</td>\n",
       "      <td>Female</td>\n",
       "      <td>21</td>\n",
       "      <td>26</td>\n",
       "      <td>5</td>\n",
       "      <td>48.786801</td>\n",
       "      <td>0</td>\n",
       "    </tr>\n",
       "    <tr>\n",
       "      <th>911</th>\n",
       "      <td>g989</td>\n",
       "      <td>Propriva</td>\n",
       "      <td>Female</td>\n",
       "      <td>21</td>\n",
       "      <td>26</td>\n",
       "      <td>5</td>\n",
       "      <td>47.570392</td>\n",
       "      <td>0</td>\n",
       "    </tr>\n",
       "    <tr>\n",
       "      <th>912</th>\n",
       "      <td>g989</td>\n",
       "      <td>Propriva</td>\n",
       "      <td>Female</td>\n",
       "      <td>21</td>\n",
       "      <td>26</td>\n",
       "      <td>10</td>\n",
       "      <td>51.745156</td>\n",
       "      <td>0</td>\n",
       "    </tr>\n",
       "    <tr>\n",
       "      <th>913</th>\n",
       "      <td>g989</td>\n",
       "      <td>Propriva</td>\n",
       "      <td>Female</td>\n",
       "      <td>21</td>\n",
       "      <td>26</td>\n",
       "      <td>10</td>\n",
       "      <td>49.880528</td>\n",
       "      <td>0</td>\n",
       "    </tr>\n",
       "    <tr>\n",
       "      <th>914</th>\n",
       "      <td>g989</td>\n",
       "      <td>Propriva</td>\n",
       "      <td>Female</td>\n",
       "      <td>21</td>\n",
       "      <td>26</td>\n",
       "      <td>15</td>\n",
       "      <td>51.325852</td>\n",
       "      <td>1</td>\n",
       "    </tr>\n",
       "    <tr>\n",
       "      <th>915</th>\n",
       "      <td>g989</td>\n",
       "      <td>Propriva</td>\n",
       "      <td>Female</td>\n",
       "      <td>21</td>\n",
       "      <td>26</td>\n",
       "      <td>15</td>\n",
       "      <td>53.442020</td>\n",
       "      <td>0</td>\n",
       "    </tr>\n",
       "    <tr>\n",
       "      <th>916</th>\n",
       "      <td>g989</td>\n",
       "      <td>Propriva</td>\n",
       "      <td>Female</td>\n",
       "      <td>21</td>\n",
       "      <td>26</td>\n",
       "      <td>20</td>\n",
       "      <td>55.326122</td>\n",
       "      <td>1</td>\n",
       "    </tr>\n",
       "    <tr>\n",
       "      <th>917</th>\n",
       "      <td>g989</td>\n",
       "      <td>Propriva</td>\n",
       "      <td>Female</td>\n",
       "      <td>21</td>\n",
       "      <td>26</td>\n",
       "      <td>20</td>\n",
       "      <td>54.657650</td>\n",
       "      <td>1</td>\n",
       "    </tr>\n",
       "    <tr>\n",
       "      <th>918</th>\n",
       "      <td>g989</td>\n",
       "      <td>Propriva</td>\n",
       "      <td>Female</td>\n",
       "      <td>21</td>\n",
       "      <td>26</td>\n",
       "      <td>25</td>\n",
       "      <td>56.045564</td>\n",
       "      <td>1</td>\n",
       "    </tr>\n",
       "    <tr>\n",
       "      <th>919</th>\n",
       "      <td>g989</td>\n",
       "      <td>Propriva</td>\n",
       "      <td>Female</td>\n",
       "      <td>21</td>\n",
       "      <td>26</td>\n",
       "      <td>30</td>\n",
       "      <td>59.082294</td>\n",
       "      <td>1</td>\n",
       "    </tr>\n",
       "    <tr>\n",
       "      <th>920</th>\n",
       "      <td>g989</td>\n",
       "      <td>Propriva</td>\n",
       "      <td>Female</td>\n",
       "      <td>21</td>\n",
       "      <td>26</td>\n",
       "      <td>35</td>\n",
       "      <td>62.570880</td>\n",
       "      <td>2</td>\n",
       "    </tr>\n",
       "  </tbody>\n",
       "</table>\n",
       "</div>"
      ],
      "text/plain": [
       "    Mouse ID Drug Regimen     Sex  Age_months  Weight (g)  Timepoint  \\\n",
       "908     g989     Propriva  Female          21          26          0   \n",
       "909     g989     Propriva  Female          21          26          0   \n",
       "910     g989     Propriva  Female          21          26          5   \n",
       "911     g989     Propriva  Female          21          26          5   \n",
       "912     g989     Propriva  Female          21          26         10   \n",
       "913     g989     Propriva  Female          21          26         10   \n",
       "914     g989     Propriva  Female          21          26         15   \n",
       "915     g989     Propriva  Female          21          26         15   \n",
       "916     g989     Propriva  Female          21          26         20   \n",
       "917     g989     Propriva  Female          21          26         20   \n",
       "918     g989     Propriva  Female          21          26         25   \n",
       "919     g989     Propriva  Female          21          26         30   \n",
       "920     g989     Propriva  Female          21          26         35   \n",
       "\n",
       "     Tumor Volume (mm3)  Metastatic Sites  \n",
       "908           45.000000                 0  \n",
       "909           45.000000                 0  \n",
       "910           48.786801                 0  \n",
       "911           47.570392                 0  \n",
       "912           51.745156                 0  \n",
       "913           49.880528                 0  \n",
       "914           51.325852                 1  \n",
       "915           53.442020                 0  \n",
       "916           55.326122                 1  \n",
       "917           54.657650                 1  \n",
       "918           56.045564                 1  \n",
       "919           59.082294                 1  \n",
       "920           62.570880                 2  "
      ]
     },
     "execution_count": 4,
     "metadata": {},
     "output_type": "execute_result"
    },
    {
     "data": {
      "application/javascript": [
       "\n",
       "            setTimeout(function() {\n",
       "                var nbb_cell_id = 4;\n",
       "                var nbb_unformatted_code = \"# Optional: Get all the data for the duplicate mouse ID. \\nduplicate_mouse_data = merged_data[merged_data[\\\"Mouse ID\\\"] == \\\"g989\\\"]\\n\\nduplicate_mouse_data\";\n",
       "                var nbb_formatted_code = \"# Optional: Get all the data for the duplicate mouse ID.\\nduplicate_mouse_data = merged_data[merged_data[\\\"Mouse ID\\\"] == \\\"g989\\\"]\\n\\nduplicate_mouse_data\";\n",
       "                var nbb_cells = Jupyter.notebook.get_cells();\n",
       "                for (var i = 0; i < nbb_cells.length; ++i) {\n",
       "                    if (nbb_cells[i].input_prompt_number == nbb_cell_id) {\n",
       "                        if (nbb_cells[i].get_text() == nbb_unformatted_code) {\n",
       "                             nbb_cells[i].set_text(nbb_formatted_code);\n",
       "                        }\n",
       "                        break;\n",
       "                    }\n",
       "                }\n",
       "            }, 500);\n",
       "            "
      ],
      "text/plain": [
       "<IPython.core.display.Javascript object>"
      ]
     },
     "metadata": {},
     "output_type": "display_data"
    }
   ],
   "source": [
    "# Optional: Get all the data for the duplicate mouse ID. \n",
    "duplicate_mouse_data = merged_data[merged_data[\"Mouse ID\"] == \"g989\"]\n",
    "\n",
    "#display duplicate mouse data\n",
    "duplicate_mouse_data"
   ]
  },
  {
   "cell_type": "markdown",
   "metadata": {},
   "source": [
    "#### Note: In the duplicate timepoints for mouse # g989, the data shows that the tumor volumes are not duplicated but different for each timepoint duplication. It appears that two different measurements were taken at the same timepoints with different results. Considering that we do not know which timepoint has the correct tumor volume measurement, it makes the most sense to drop all rows for mouse # g989 so as not to use incorrect data in analysis. "
   ]
  },
  {
   "cell_type": "code",
   "execution_count": 5,
   "metadata": {},
   "outputs": [
    {
     "data": {
      "application/javascript": [
       "\n",
       "            setTimeout(function() {\n",
       "                var nbb_cell_id = 5;\n",
       "                var nbb_unformatted_code = \"# # Create a clean DataFrame by dropping the duplicate mouse by its ID.\\nduplicate_mouse = merged_data[merged_data[\\\"Mouse ID\\\"] == \\\"g989\\\"].index\\n\\n#drop all rows of the duplicate mouse\\nclean_df = merged_data.drop(duplicate_mouse)\";\n",
       "                var nbb_formatted_code = \"# # Create a clean DataFrame by dropping the duplicate mouse by its ID.\\nduplicate_mouse = merged_data[merged_data[\\\"Mouse ID\\\"] == \\\"g989\\\"].index\\n\\n# drop all rows of the duplicate mouse\\nclean_df = merged_data.drop(duplicate_mouse)\";\n",
       "                var nbb_cells = Jupyter.notebook.get_cells();\n",
       "                for (var i = 0; i < nbb_cells.length; ++i) {\n",
       "                    if (nbb_cells[i].input_prompt_number == nbb_cell_id) {\n",
       "                        if (nbb_cells[i].get_text() == nbb_unformatted_code) {\n",
       "                             nbb_cells[i].set_text(nbb_formatted_code);\n",
       "                        }\n",
       "                        break;\n",
       "                    }\n",
       "                }\n",
       "            }, 500);\n",
       "            "
      ],
      "text/plain": [
       "<IPython.core.display.Javascript object>"
      ]
     },
     "metadata": {},
     "output_type": "display_data"
    }
   ],
   "source": [
    "# # Create a clean DataFrame by dropping the duplicate mouse by its ID.\n",
    "duplicate_mouse = merged_data[merged_data[\"Mouse ID\"] == \"g989\"].index\n",
    "\n",
    "#drop all rows of the duplicate mouse\n",
    "clean_df = merged_data.drop(duplicate_mouse)"
   ]
  },
  {
   "cell_type": "code",
   "execution_count": 6,
   "metadata": {},
   "outputs": [
    {
     "data": {
      "text/plain": [
       "248"
      ]
     },
     "execution_count": 6,
     "metadata": {},
     "output_type": "execute_result"
    },
    {
     "data": {
      "application/javascript": [
       "\n",
       "            setTimeout(function() {\n",
       "                var nbb_cell_id = 6;\n",
       "                var nbb_unformatted_code = \"# Checking the number of mice in the clean DataFrame.\\nupdated_mice_number = clean_df[\\\"Mouse ID\\\"].nunique()\\n\\nupdated_mice_number\";\n",
       "                var nbb_formatted_code = \"# Checking the number of mice in the clean DataFrame.\\nupdated_mice_number = clean_df[\\\"Mouse ID\\\"].nunique()\\n\\nupdated_mice_number\";\n",
       "                var nbb_cells = Jupyter.notebook.get_cells();\n",
       "                for (var i = 0; i < nbb_cells.length; ++i) {\n",
       "                    if (nbb_cells[i].input_prompt_number == nbb_cell_id) {\n",
       "                        if (nbb_cells[i].get_text() == nbb_unformatted_code) {\n",
       "                             nbb_cells[i].set_text(nbb_formatted_code);\n",
       "                        }\n",
       "                        break;\n",
       "                    }\n",
       "                }\n",
       "            }, 500);\n",
       "            "
      ],
      "text/plain": [
       "<IPython.core.display.Javascript object>"
      ]
     },
     "metadata": {},
     "output_type": "display_data"
    }
   ],
   "source": [
    "# Checking the number of mice in the clean DataFrame.\n",
    "updated_mice_number = clean_df[\"Mouse ID\"].nunique()\n",
    "\n",
    "updated_mice_number"
   ]
  },
  {
   "cell_type": "markdown",
   "metadata": {},
   "source": [
    "## Summary Statistics"
   ]
  },
  {
   "cell_type": "code",
   "execution_count": 7,
   "metadata": {},
   "outputs": [
    {
     "data": {
      "text/html": [
       "<div>\n",
       "<style scoped>\n",
       "    .dataframe tbody tr th:only-of-type {\n",
       "        vertical-align: middle;\n",
       "    }\n",
       "\n",
       "    .dataframe tbody tr th {\n",
       "        vertical-align: top;\n",
       "    }\n",
       "\n",
       "    .dataframe thead tr th {\n",
       "        text-align: left;\n",
       "    }\n",
       "\n",
       "    .dataframe thead tr:last-of-type th {\n",
       "        text-align: right;\n",
       "    }\n",
       "</style>\n",
       "<table border=\"1\" class=\"dataframe\">\n",
       "  <thead>\n",
       "    <tr>\n",
       "      <th></th>\n",
       "      <th colspan=\"5\" halign=\"left\">Tumor Volume (mm3)</th>\n",
       "    </tr>\n",
       "    <tr>\n",
       "      <th></th>\n",
       "      <th>mean</th>\n",
       "      <th>median</th>\n",
       "      <th>var</th>\n",
       "      <th>std</th>\n",
       "      <th>sem</th>\n",
       "    </tr>\n",
       "    <tr>\n",
       "      <th>Drug Regimen</th>\n",
       "      <th></th>\n",
       "      <th></th>\n",
       "      <th></th>\n",
       "      <th></th>\n",
       "      <th></th>\n",
       "    </tr>\n",
       "  </thead>\n",
       "  <tbody>\n",
       "    <tr>\n",
       "      <th>Capomulin</th>\n",
       "      <td>40.675741</td>\n",
       "      <td>41.557809</td>\n",
       "      <td>24.947764</td>\n",
       "      <td>4.994774</td>\n",
       "      <td>0.329346</td>\n",
       "    </tr>\n",
       "    <tr>\n",
       "      <th>Ceftamin</th>\n",
       "      <td>52.591172</td>\n",
       "      <td>51.776157</td>\n",
       "      <td>39.290177</td>\n",
       "      <td>6.268188</td>\n",
       "      <td>0.469821</td>\n",
       "    </tr>\n",
       "    <tr>\n",
       "      <th>Infubinol</th>\n",
       "      <td>52.884795</td>\n",
       "      <td>51.820584</td>\n",
       "      <td>43.128684</td>\n",
       "      <td>6.567243</td>\n",
       "      <td>0.492236</td>\n",
       "    </tr>\n",
       "    <tr>\n",
       "      <th>Ketapril</th>\n",
       "      <td>55.235638</td>\n",
       "      <td>53.698743</td>\n",
       "      <td>68.553577</td>\n",
       "      <td>8.279709</td>\n",
       "      <td>0.603860</td>\n",
       "    </tr>\n",
       "    <tr>\n",
       "      <th>Naftisol</th>\n",
       "      <td>54.331565</td>\n",
       "      <td>52.509285</td>\n",
       "      <td>66.173479</td>\n",
       "      <td>8.134708</td>\n",
       "      <td>0.596466</td>\n",
       "    </tr>\n",
       "    <tr>\n",
       "      <th>Placebo</th>\n",
       "      <td>54.033581</td>\n",
       "      <td>52.288934</td>\n",
       "      <td>61.168083</td>\n",
       "      <td>7.821003</td>\n",
       "      <td>0.581331</td>\n",
       "    </tr>\n",
       "    <tr>\n",
       "      <th>Propriva</th>\n",
       "      <td>52.320930</td>\n",
       "      <td>50.446266</td>\n",
       "      <td>43.852013</td>\n",
       "      <td>6.622085</td>\n",
       "      <td>0.544332</td>\n",
       "    </tr>\n",
       "    <tr>\n",
       "      <th>Ramicane</th>\n",
       "      <td>40.216745</td>\n",
       "      <td>40.673236</td>\n",
       "      <td>23.486704</td>\n",
       "      <td>4.846308</td>\n",
       "      <td>0.320955</td>\n",
       "    </tr>\n",
       "    <tr>\n",
       "      <th>Stelasyn</th>\n",
       "      <td>54.233149</td>\n",
       "      <td>52.431737</td>\n",
       "      <td>59.450562</td>\n",
       "      <td>7.710419</td>\n",
       "      <td>0.573111</td>\n",
       "    </tr>\n",
       "    <tr>\n",
       "      <th>Zoniferol</th>\n",
       "      <td>53.236507</td>\n",
       "      <td>51.818479</td>\n",
       "      <td>48.533355</td>\n",
       "      <td>6.966589</td>\n",
       "      <td>0.516398</td>\n",
       "    </tr>\n",
       "  </tbody>\n",
       "</table>\n",
       "</div>"
      ],
      "text/plain": [
       "             Tumor Volume (mm3)                                          \n",
       "                           mean     median        var       std       sem\n",
       "Drug Regimen                                                             \n",
       "Capomulin             40.675741  41.557809  24.947764  4.994774  0.329346\n",
       "Ceftamin              52.591172  51.776157  39.290177  6.268188  0.469821\n",
       "Infubinol             52.884795  51.820584  43.128684  6.567243  0.492236\n",
       "Ketapril              55.235638  53.698743  68.553577  8.279709  0.603860\n",
       "Naftisol              54.331565  52.509285  66.173479  8.134708  0.596466\n",
       "Placebo               54.033581  52.288934  61.168083  7.821003  0.581331\n",
       "Propriva              52.320930  50.446266  43.852013  6.622085  0.544332\n",
       "Ramicane              40.216745  40.673236  23.486704  4.846308  0.320955\n",
       "Stelasyn              54.233149  52.431737  59.450562  7.710419  0.573111\n",
       "Zoniferol             53.236507  51.818479  48.533355  6.966589  0.516398"
      ]
     },
     "execution_count": 7,
     "metadata": {},
     "output_type": "execute_result"
    },
    {
     "data": {
      "application/javascript": [
       "\n",
       "            setTimeout(function() {\n",
       "                var nbb_cell_id = 7;\n",
       "                var nbb_unformatted_code = \"# Generate a summary statistics table of mean, median, variance, standard deviation, and SEM of the tumor volume for each regimen\\nclean_df.groupby([\\\"Drug Regimen\\\"]).agg({\\\"Tumor Volume (mm3)\\\" : [\\\"mean\\\",\\n                                                                \\\"median\\\",\\n                                                                \\\"var\\\",\\n                                                                \\\"std\\\",\\n                                                                \\\"sem\\\"]})\";\n",
       "                var nbb_formatted_code = \"# Generate a summary statistics table of mean, median, variance, standard deviation, and SEM of the tumor volume for each regimen\\nclean_df.groupby([\\\"Drug Regimen\\\"]).agg(\\n    {\\\"Tumor Volume (mm3)\\\": [\\\"mean\\\", \\\"median\\\", \\\"var\\\", \\\"std\\\", \\\"sem\\\"]}\\n)\";\n",
       "                var nbb_cells = Jupyter.notebook.get_cells();\n",
       "                for (var i = 0; i < nbb_cells.length; ++i) {\n",
       "                    if (nbb_cells[i].input_prompt_number == nbb_cell_id) {\n",
       "                        if (nbb_cells[i].get_text() == nbb_unformatted_code) {\n",
       "                             nbb_cells[i].set_text(nbb_formatted_code);\n",
       "                        }\n",
       "                        break;\n",
       "                    }\n",
       "                }\n",
       "            }, 500);\n",
       "            "
      ],
      "text/plain": [
       "<IPython.core.display.Javascript object>"
      ]
     },
     "metadata": {},
     "output_type": "display_data"
    }
   ],
   "source": [
    "# Generate a summary statistics table of mean, median, variance, standard deviation, and SEM of the tumor volume for each regimen\n",
    "clean_df.groupby([\"Drug Regimen\"]).agg({\"Tumor Volume (mm3)\" : [\"mean\",\n",
    "                                                                \"median\",\n",
    "                                                                \"var\",\n",
    "                                                                \"std\",\n",
    "                                                                \"sem\"]})"
   ]
  },
  {
   "cell_type": "markdown",
   "metadata": {},
   "source": [
    "## Bar and Pie Charts"
   ]
  },
  {
   "cell_type": "code",
   "execution_count": 30,
   "metadata": {},
   "outputs": [
    {
     "data": {
      "image/png": "[encoded data removed]",
      "text/plain": [
       "<Figure size 432x288 with 1 Axes>"
      ]
     },
     "metadata": {
      "needs_background": "light"
     },
     "output_type": "display_data"
    },
    {
     "data": {
      "application/javascript": [
       "\n",
       "            setTimeout(function() {\n",
       "                var nbb_cell_id = 30;\n",
       "                var nbb_unformatted_code = \"# Generate a bar plot showing the total number of mice for each treatment throughout the course of the study using pandas. \\ntotal_mice = clean_df.groupby([\\\"Drug Regimen\\\"])[\\\"Mouse ID\\\"].nunique()\\n\\n#create bar chart\\nmice_plot = total_mice.plot(kind=\\\"bar\\\", title=\\\"Total Mice for Each Treatment\\\", color=\\\"royalblue\\\")\\nmice_plot.set_ylabel(\\\"Number of Mice\\\")\\nplt.savefig(\\\"Images/total_mice.png\\\")\\nplt.show()\";\n",
       "                var nbb_formatted_code = \"# Generate a bar plot showing the total number of mice for each treatment throughout the course of the study using pandas.\\ntotal_mice = clean_df.groupby([\\\"Drug Regimen\\\"])[\\\"Mouse ID\\\"].nunique()\\n\\n# create bar chart\\nmice_plot = total_mice.plot(\\n    kind=\\\"bar\\\", title=\\\"Total Mice for Each Treatment\\\", color=\\\"royalblue\\\"\\n)\\nmice_plot.set_ylabel(\\\"Number of Mice\\\")\\nplt.savefig(\\\"Images/total_mice.png\\\")\\nplt.show()\";\n",
       "                var nbb_cells = Jupyter.notebook.get_cells();\n",
       "                for (var i = 0; i < nbb_cells.length; ++i) {\n",
       "                    if (nbb_cells[i].input_prompt_number == nbb_cell_id) {\n",
       "                        if (nbb_cells[i].get_text() == nbb_unformatted_code) {\n",
       "                             nbb_cells[i].set_text(nbb_formatted_code);\n",
       "                        }\n",
       "                        break;\n",
       "                    }\n",
       "                }\n",
       "            }, 500);\n",
       "            "
      ],
      "text/plain": [
       "<IPython.core.display.Javascript object>"
      ]
     },
     "metadata": {},
     "output_type": "display_data"
    }
   ],
   "source": [
    "# Generate a bar plot showing the total number of mice for each treatment throughout the course of the study using pandas. \n",
    "total_mice = clean_df.groupby([\"Drug Regimen\"])[\"Mouse ID\"].nunique()\n",
    "\n",
    "#create bar chart\n",
    "mice_plot = total_mice.plot(kind=\"bar\", title=\"Total Mice for Each Treatment\", color=\"royalblue\")\n",
    "mice_plot.set_ylabel(\"Number of Mice\")\n",
    "plt.savefig(\"Images/total_mice.png\")\n",
    "plt.show()"
   ]
  },
  {
   "cell_type": "code",
   "execution_count": 9,
   "metadata": {},
   "outputs": [
    {
     "data": {
      "image/png": "[encoded data removed]",
      "text/plain": [
       "<Figure size 432x288 with 1 Axes>"
      ]
     },
     "metadata": {
      "needs_background": "light"
     },
     "output_type": "display_data"
    },
    {
     "data": {
      "application/javascript": [
       "\n",
       "            setTimeout(function() {\n",
       "                var nbb_cell_id = 9;\n",
       "                var nbb_unformatted_code = \"# Generate a bar plot showing the total number of mice for each treatment throughout the course of the study using pyplot.\\ndrug_regimens = clean_df[\\\"Drug Regimen\\\"].unique()\\ndrug_regimens\\n\\n#create bar chart\\nplt.title(\\\"Total Mice for Each Treatment\\\")\\nplt.bar(drug_regimens, total_mice, color=\\\"royalblue\\\")\\nplt.xlabel(\\\"Drug Regimen\\\")\\nplt.ylabel(\\\"Number of Mice\\\")\\nplt.xticks(rotation=90)\\nplt.show()\";\n",
       "                var nbb_formatted_code = \"# Generate a bar plot showing the total number of mice for each treatment throughout the course of the study using pyplot.\\ndrug_regimens = clean_df[\\\"Drug Regimen\\\"].unique()\\ndrug_regimens\\n\\n# create bar chart\\nplt.title(\\\"Total Mice for Each Treatment\\\")\\nplt.bar(drug_regimens, total_mice, color=\\\"royalblue\\\")\\nplt.xlabel(\\\"Drug Regimen\\\")\\nplt.ylabel(\\\"Number of Mice\\\")\\nplt.xticks(rotation=90)\\nplt.show()\";\n",
       "                var nbb_cells = Jupyter.notebook.get_cells();\n",
       "                for (var i = 0; i < nbb_cells.length; ++i) {\n",
       "                    if (nbb_cells[i].input_prompt_number == nbb_cell_id) {\n",
       "                        if (nbb_cells[i].get_text() == nbb_unformatted_code) {\n",
       "                             nbb_cells[i].set_text(nbb_formatted_code);\n",
       "                        }\n",
       "                        break;\n",
       "                    }\n",
       "                }\n",
       "            }, 500);\n",
       "            "
      ],
      "text/plain": [
       "<IPython.core.display.Javascript object>"
      ]
     },
     "metadata": {},
     "output_type": "display_data"
    }
   ],
   "source": [
    "# Generate a bar plot showing the total number of mice for each treatment throughout the course of the study using pyplot.\n",
    "drug_regimens = clean_df[\"Drug Regimen\"].unique()\n",
    "drug_regimens\n",
    "\n",
    "#create bar chart\n",
    "plt.title(\"Total Mice for Each Treatment\")\n",
    "plt.bar(drug_regimens, total_mice, color=\"royalblue\")\n",
    "plt.xlabel(\"Drug Regimen\")\n",
    "plt.ylabel(\"Number of Mice\")\n",
    "plt.xticks(rotation=90)\n",
    "plt.show()"
   ]
  },
  {
   "cell_type": "code",
   "execution_count": 31,
   "metadata": {},
   "outputs": [
    {
     "data": {
      "image/png": "[encoded data removed]",
      "text/plain": [
       "<Figure size 432x288 with 1 Axes>"
      ]
     },
     "metadata": {},
     "output_type": "display_data"
    },
    {
     "data": {
      "application/javascript": [
       "\n",
       "            setTimeout(function() {\n",
       "                var nbb_cell_id = 31;\n",
       "                var nbb_unformatted_code = \"# Generate a pie plot showing the distribution of female versus male mice using pandas\\nmice_by_gender = clean_df.groupby([\\\"Sex\\\"])[\\\"Mouse ID\\\"].nunique().to_frame()\\n\\n#create pie chart\\nmice_by_gender.plot(kind=\\\"pie\\\", subplots=\\\"True\\\", title=\\\"Gender Distribution of Mice\\\", autopct=\\\"%1.1f%%\\\", legend=False)\\nplt.savefig(\\\"Images/gender.png\\\")\\nplt.show()\";\n",
       "                var nbb_formatted_code = \"# Generate a pie plot showing the distribution of female versus male mice using pandas\\nmice_by_gender = clean_df.groupby([\\\"Sex\\\"])[\\\"Mouse ID\\\"].nunique().to_frame()\\n\\n# create pie chart\\nmice_by_gender.plot(\\n    kind=\\\"pie\\\",\\n    subplots=\\\"True\\\",\\n    title=\\\"Gender Distribution of Mice\\\",\\n    autopct=\\\"%1.1f%%\\\",\\n    legend=False,\\n)\\nplt.savefig(\\\"Images/gender.png\\\")\\nplt.show()\";\n",
       "                var nbb_cells = Jupyter.notebook.get_cells();\n",
       "                for (var i = 0; i < nbb_cells.length; ++i) {\n",
       "                    if (nbb_cells[i].input_prompt_number == nbb_cell_id) {\n",
       "                        if (nbb_cells[i].get_text() == nbb_unformatted_code) {\n",
       "                             nbb_cells[i].set_text(nbb_formatted_code);\n",
       "                        }\n",
       "                        break;\n",
       "                    }\n",
       "                }\n",
       "            }, 500);\n",
       "            "
      ],
      "text/plain": [
       "<IPython.core.display.Javascript object>"
      ]
     },
     "metadata": {},
     "output_type": "display_data"
    }
   ],
   "source": [
    "# Generate a pie plot showing the distribution of female versus male mice using pandas\n",
    "mice_by_gender = clean_df.groupby([\"Sex\"])[\"Mouse ID\"].nunique().to_frame()\n",
    "\n",
    "#create pie chart\n",
    "mice_by_gender.plot(kind=\"pie\", subplots=\"True\", title=\"Gender Distribution of Mice\", autopct=\"%1.1f%%\", legend=False)\n",
    "plt.savefig(\"Images/gender.png\")\n",
    "plt.show()"
   ]
  },
  {
   "cell_type": "code",
   "execution_count": 11,
   "metadata": {},
   "outputs": [
    {
     "data": {
      "text/html": [
       "<div>\n",
       "<style scoped>\n",
       "    .dataframe tbody tr th:only-of-type {\n",
       "        vertical-align: middle;\n",
       "    }\n",
       "\n",
       "    .dataframe tbody tr th {\n",
       "        vertical-align: top;\n",
       "    }\n",
       "\n",
       "    .dataframe thead th {\n",
       "        text-align: right;\n",
       "    }\n",
       "</style>\n",
       "<table border=\"1\" class=\"dataframe\">\n",
       "  <thead>\n",
       "    <tr style=\"text-align: right;\">\n",
       "      <th></th>\n",
       "      <th>Mouse ID</th>\n",
       "    </tr>\n",
       "    <tr>\n",
       "      <th>Sex</th>\n",
       "      <th></th>\n",
       "    </tr>\n",
       "  </thead>\n",
       "  <tbody>\n",
       "    <tr>\n",
       "      <th>Female</th>\n",
       "      <td>123</td>\n",
       "    </tr>\n",
       "    <tr>\n",
       "      <th>Male</th>\n",
       "      <td>125</td>\n",
       "    </tr>\n",
       "  </tbody>\n",
       "</table>\n",
       "</div>"
      ],
      "text/plain": [
       "        Mouse ID\n",
       "Sex             \n",
       "Female       123\n",
       "Male         125"
      ]
     },
     "execution_count": 11,
     "metadata": {},
     "output_type": "execute_result"
    },
    {
     "data": {
      "application/javascript": [
       "\n",
       "            setTimeout(function() {\n",
       "                var nbb_cell_id = 11;\n",
       "                var nbb_unformatted_code = \"#display number of mice by gender to create sizes list for pie chart\\nmice_by_gender\";\n",
       "                var nbb_formatted_code = \"# display number of mice by gender to create sizes list for pie chart\\nmice_by_gender\";\n",
       "                var nbb_cells = Jupyter.notebook.get_cells();\n",
       "                for (var i = 0; i < nbb_cells.length; ++i) {\n",
       "                    if (nbb_cells[i].input_prompt_number == nbb_cell_id) {\n",
       "                        if (nbb_cells[i].get_text() == nbb_unformatted_code) {\n",
       "                             nbb_cells[i].set_text(nbb_formatted_code);\n",
       "                        }\n",
       "                        break;\n",
       "                    }\n",
       "                }\n",
       "            }, 500);\n",
       "            "
      ],
      "text/plain": [
       "<IPython.core.display.Javascript object>"
      ]
     },
     "metadata": {},
     "output_type": "display_data"
    }
   ],
   "source": [
    "#display number of mice by gender to create sizes list for pie chart\n",
    "mice_by_gender"
   ]
  },
  {
   "cell_type": "code",
   "execution_count": 12,
   "metadata": {},
   "outputs": [
    {
     "data": {
      "image/png": "[encoded data removed]",
      "text/plain": [
       "<Figure size 432x288 with 1 Axes>"
      ]
     },
     "metadata": {},
     "output_type": "display_data"
    },
    {
     "data": {
      "application/javascript": [
       "\n",
       "            setTimeout(function() {\n",
       "                var nbb_cell_id = 12;\n",
       "                var nbb_unformatted_code = \"# Generate a pie plot showing the distribution of female versus male mice using pyplot\\n#create variables for pie chart\\nsizes = [123, 125]\\nlabels = [\\\"Female\\\", \\\"Male\\\"]\\ncolors = [\\\"tab:blue\\\", \\\"tab:orange\\\"]\\n\\n#create pie chart\\nplt.title(\\\"Gender Distribution of Mice\\\")\\nplt.pie(sizes, labels=labels, colors=colors, autopct=\\\"%1.1f%%\\\")\\nplt.show()\";\n",
       "                var nbb_formatted_code = \"# Generate a pie plot showing the distribution of female versus male mice using pyplot\\n# create variables for pie chart\\nsizes = [123, 125]\\nlabels = [\\\"Female\\\", \\\"Male\\\"]\\ncolors = [\\\"tab:blue\\\", \\\"tab:orange\\\"]\\n\\n# create pie chart\\nplt.title(\\\"Gender Distribution of Mice\\\")\\nplt.pie(sizes, labels=labels, colors=colors, autopct=\\\"%1.1f%%\\\")\\nplt.show()\";\n",
       "                var nbb_cells = Jupyter.notebook.get_cells();\n",
       "                for (var i = 0; i < nbb_cells.length; ++i) {\n",
       "                    if (nbb_cells[i].input_prompt_number == nbb_cell_id) {\n",
       "                        if (nbb_cells[i].get_text() == nbb_unformatted_code) {\n",
       "                             nbb_cells[i].set_text(nbb_formatted_code);\n",
       "                        }\n",
       "                        break;\n",
       "                    }\n",
       "                }\n",
       "            }, 500);\n",
       "            "
      ],
      "text/plain": [
       "<IPython.core.display.Javascript object>"
      ]
     },
     "metadata": {},
     "output_type": "display_data"
    }
   ],
   "source": [
    "# Generate a pie plot showing the distribution of female versus male mice using pyplot\n",
    "#create variables for pie chart\n",
    "sizes = [123, 125]\n",
    "labels = [\"Female\", \"Male\"]\n",
    "colors = [\"tab:blue\", \"tab:orange\"]\n",
    "\n",
    "#create pie chart\n",
    "plt.title(\"Gender Distribution of Mice\")\n",
    "plt.pie(sizes, labels=labels, colors=colors, autopct=\"%1.1f%%\")\n",
    "plt.show()"
   ]
  },
  {
   "cell_type": "markdown",
   "metadata": {},
   "source": [
    "## Quartiles, Outliers and Boxplots"
   ]
  },
  {
   "cell_type": "code",
   "execution_count": 13,
   "metadata": {},
   "outputs": [
    {
     "data": {
      "text/html": [
       "<div>\n",
       "<style scoped>\n",
       "    .dataframe tbody tr th:only-of-type {\n",
       "        vertical-align: middle;\n",
       "    }\n",
       "\n",
       "    .dataframe tbody tr th {\n",
       "        vertical-align: top;\n",
       "    }\n",
       "\n",
       "    .dataframe thead th {\n",
       "        text-align: right;\n",
       "    }\n",
       "</style>\n",
       "<table border=\"1\" class=\"dataframe\">\n",
       "  <thead>\n",
       "    <tr style=\"text-align: right;\">\n",
       "      <th></th>\n",
       "      <th>Mouse ID</th>\n",
       "      <th>Timepoint</th>\n",
       "      <th>Drug Regimen</th>\n",
       "      <th>Tumor Volume (mm3)</th>\n",
       "    </tr>\n",
       "  </thead>\n",
       "  <tbody>\n",
       "    <tr>\n",
       "      <th>0</th>\n",
       "      <td>a203</td>\n",
       "      <td>45</td>\n",
       "      <td>Infubinol</td>\n",
       "      <td>67.973419</td>\n",
       "    </tr>\n",
       "    <tr>\n",
       "      <th>1</th>\n",
       "      <td>a251</td>\n",
       "      <td>45</td>\n",
       "      <td>Infubinol</td>\n",
       "      <td>65.525743</td>\n",
       "    </tr>\n",
       "    <tr>\n",
       "      <th>2</th>\n",
       "      <td>a262</td>\n",
       "      <td>45</td>\n",
       "      <td>Placebo</td>\n",
       "      <td>70.717621</td>\n",
       "    </tr>\n",
       "    <tr>\n",
       "      <th>3</th>\n",
       "      <td>a275</td>\n",
       "      <td>45</td>\n",
       "      <td>Ceftamin</td>\n",
       "      <td>62.999356</td>\n",
       "    </tr>\n",
       "    <tr>\n",
       "      <th>4</th>\n",
       "      <td>a366</td>\n",
       "      <td>30</td>\n",
       "      <td>Stelasyn</td>\n",
       "      <td>63.440686</td>\n",
       "    </tr>\n",
       "    <tr>\n",
       "      <th>...</th>\n",
       "      <td>...</td>\n",
       "      <td>...</td>\n",
       "      <td>...</td>\n",
       "      <td>...</td>\n",
       "    </tr>\n",
       "    <tr>\n",
       "      <th>243</th>\n",
       "      <td>z435</td>\n",
       "      <td>10</td>\n",
       "      <td>Propriva</td>\n",
       "      <td>48.710661</td>\n",
       "    </tr>\n",
       "    <tr>\n",
       "      <th>244</th>\n",
       "      <td>z578</td>\n",
       "      <td>45</td>\n",
       "      <td>Ramicane</td>\n",
       "      <td>30.638696</td>\n",
       "    </tr>\n",
       "    <tr>\n",
       "      <th>245</th>\n",
       "      <td>z581</td>\n",
       "      <td>45</td>\n",
       "      <td>Infubinol</td>\n",
       "      <td>62.754451</td>\n",
       "    </tr>\n",
       "    <tr>\n",
       "      <th>246</th>\n",
       "      <td>z795</td>\n",
       "      <td>45</td>\n",
       "      <td>Naftisol</td>\n",
       "      <td>65.741070</td>\n",
       "    </tr>\n",
       "    <tr>\n",
       "      <th>247</th>\n",
       "      <td>z969</td>\n",
       "      <td>45</td>\n",
       "      <td>Naftisol</td>\n",
       "      <td>73.867845</td>\n",
       "    </tr>\n",
       "  </tbody>\n",
       "</table>\n",
       "<p>248 rows × 4 columns</p>\n",
       "</div>"
      ],
      "text/plain": [
       "    Mouse ID  Timepoint Drug Regimen  Tumor Volume (mm3)\n",
       "0       a203         45    Infubinol           67.973419\n",
       "1       a251         45    Infubinol           65.525743\n",
       "2       a262         45      Placebo           70.717621\n",
       "3       a275         45     Ceftamin           62.999356\n",
       "4       a366         30     Stelasyn           63.440686\n",
       "..       ...        ...          ...                 ...\n",
       "243     z435         10     Propriva           48.710661\n",
       "244     z578         45     Ramicane           30.638696\n",
       "245     z581         45    Infubinol           62.754451\n",
       "246     z795         45     Naftisol           65.741070\n",
       "247     z969         45     Naftisol           73.867845\n",
       "\n",
       "[248 rows x 4 columns]"
      ]
     },
     "execution_count": 13,
     "metadata": {},
     "output_type": "execute_result"
    },
    {
     "data": {
      "application/javascript": [
       "\n",
       "            setTimeout(function() {\n",
       "                var nbb_cell_id = 13;\n",
       "                var nbb_unformatted_code = \"# Calculate final tumor volume of each mouse across four regimens: Capomulin, Ramicane, Infubinol, and Ceftamin\\n\\n# Start by getting the last (greatest) timepoint for each mouse\\nlast_timepoint = clean_df.groupby([\\\"Mouse ID\\\"])[\\\"Timepoint\\\"].max().to_frame()\\n\\n#create smaller df to merge with last_timepoint df\\ntumor_vol = clean_df[[\\\"Mouse ID\\\", \\\"Timepoint\\\", \\\"Drug Regimen\\\", \\\"Tumor Volume (mm3)\\\"]]\\n\\n# Merge merge last_timepoint df with tumor_vol dataframe to get tumor volume at last timepoint\\nlast_tumor_volume = pd.merge(last_timepoint, tumor_vol, on=[\\\"Mouse ID\\\", \\\"Timepoint\\\"], how=\\\"inner\\\")\\nlast_tumor_volume\";\n",
       "                var nbb_formatted_code = \"# Calculate final tumor volume of each mouse across four regimens: Capomulin, Ramicane, Infubinol, and Ceftamin\\n\\n# Start by getting the last (greatest) timepoint for each mouse\\nlast_timepoint = clean_df.groupby([\\\"Mouse ID\\\"])[\\\"Timepoint\\\"].max().to_frame()\\n\\n# create smaller df to merge with last_timepoint df\\ntumor_vol = clean_df[[\\\"Mouse ID\\\", \\\"Timepoint\\\", \\\"Drug Regimen\\\", \\\"Tumor Volume (mm3)\\\"]]\\n\\n# Merge merge last_timepoint df with tumor_vol dataframe to get tumor volume at last timepoint\\nlast_tumor_volume = pd.merge(\\n    last_timepoint, tumor_vol, on=[\\\"Mouse ID\\\", \\\"Timepoint\\\"], how=\\\"inner\\\"\\n)\\nlast_tumor_volume\";\n",
       "                var nbb_cells = Jupyter.notebook.get_cells();\n",
       "                for (var i = 0; i < nbb_cells.length; ++i) {\n",
       "                    if (nbb_cells[i].input_prompt_number == nbb_cell_id) {\n",
       "                        if (nbb_cells[i].get_text() == nbb_unformatted_code) {\n",
       "                             nbb_cells[i].set_text(nbb_formatted_code);\n",
       "                        }\n",
       "                        break;\n",
       "                    }\n",
       "                }\n",
       "            }, 500);\n",
       "            "
      ],
      "text/plain": [
       "<IPython.core.display.Javascript object>"
      ]
     },
     "metadata": {},
     "output_type": "display_data"
    }
   ],
   "source": [
    "# Calculate final tumor volume of each mouse across four regimens: Capomulin, Ramicane, Infubinol, and Ceftamin\n",
    "\n",
    "# Start by getting the last (greatest) timepoint for each mouse\n",
    "last_timepoint = clean_df.groupby([\"Mouse ID\"])[\"Timepoint\"].max().to_frame()\n",
    "\n",
    "#create smaller df to merge with last_timepoint df\n",
    "tumor_vol = clean_df[[\"Mouse ID\", \"Timepoint\", \"Drug Regimen\", \"Tumor Volume (mm3)\"]]\n",
    "\n",
    "# Merge merge last_timepoint df with tumor_vol dataframe to get tumor volume at last timepoint\n",
    "last_tumor_volume = pd.merge(last_timepoint, tumor_vol, on=[\"Mouse ID\", \"Timepoint\"], how=\"inner\")\n",
    "last_tumor_volume"
   ]
  },
  {
   "cell_type": "code",
   "execution_count": 14,
   "metadata": {},
   "outputs": [
    {
     "data": {
      "application/javascript": [
       "\n",
       "            setTimeout(function() {\n",
       "                var nbb_cell_id = 14;\n",
       "                var nbb_unformatted_code = \"#calculate final tumor volume of each mouse across 4 drug treatment regimens and put into series\\ncapomulin = last_tumor_volume.loc[last_tumor_volume[\\\"Drug Regimen\\\"] == \\\"Capomulin\\\", \\\"Tumor Volume (mm3)\\\"]\\nramicane = last_tumor_volume.loc[last_tumor_volume[\\\"Drug Regimen\\\"] == \\\"Ramicane\\\", \\\"Tumor Volume (mm3)\\\"]\\ninfubinol = last_tumor_volume.loc[last_tumor_volume[\\\"Drug Regimen\\\"] == \\\"Infubinol\\\", \\\"Tumor Volume (mm3)\\\"]\\nceftamin = last_tumor_volume.loc[last_tumor_volume[\\\"Drug Regimen\\\"] == \\\"Ceftamin\\\", \\\"Tumor Volume (mm3)\\\"]\\n\\n#combined for ploting the boxplot later\\nboxplot_data = [capomulin, ramicane, infubinol, ceftamin]\";\n",
       "                var nbb_formatted_code = \"# calculate final tumor volume of each mouse across 4 drug treatment regimens and put into series\\ncapomulin = last_tumor_volume.loc[\\n    last_tumor_volume[\\\"Drug Regimen\\\"] == \\\"Capomulin\\\", \\\"Tumor Volume (mm3)\\\"\\n]\\nramicane = last_tumor_volume.loc[\\n    last_tumor_volume[\\\"Drug Regimen\\\"] == \\\"Ramicane\\\", \\\"Tumor Volume (mm3)\\\"\\n]\\ninfubinol = last_tumor_volume.loc[\\n    last_tumor_volume[\\\"Drug Regimen\\\"] == \\\"Infubinol\\\", \\\"Tumor Volume (mm3)\\\"\\n]\\nceftamin = last_tumor_volume.loc[\\n    last_tumor_volume[\\\"Drug Regimen\\\"] == \\\"Ceftamin\\\", \\\"Tumor Volume (mm3)\\\"\\n]\\n\\n# combined for ploting the boxplot later\\nboxplot_data = [capomulin, ramicane, infubinol, ceftamin]\";\n",
       "                var nbb_cells = Jupyter.notebook.get_cells();\n",
       "                for (var i = 0; i < nbb_cells.length; ++i) {\n",
       "                    if (nbb_cells[i].input_prompt_number == nbb_cell_id) {\n",
       "                        if (nbb_cells[i].get_text() == nbb_unformatted_code) {\n",
       "                             nbb_cells[i].set_text(nbb_formatted_code);\n",
       "                        }\n",
       "                        break;\n",
       "                    }\n",
       "                }\n",
       "            }, 500);\n",
       "            "
      ],
      "text/plain": [
       "<IPython.core.display.Javascript object>"
      ]
     },
     "metadata": {},
     "output_type": "display_data"
    }
   ],
   "source": [
    "#calculate final tumor volume of each mouse across 4 drug treatment regimens and put into series\n",
    "capomulin = last_tumor_volume.loc[last_tumor_volume[\"Drug Regimen\"] == \"Capomulin\", \"Tumor Volume (mm3)\"]\n",
    "ramicane = last_tumor_volume.loc[last_tumor_volume[\"Drug Regimen\"] == \"Ramicane\", \"Tumor Volume (mm3)\"]\n",
    "infubinol = last_tumor_volume.loc[last_tumor_volume[\"Drug Regimen\"] == \"Infubinol\", \"Tumor Volume (mm3)\"]\n",
    "ceftamin = last_tumor_volume.loc[last_tumor_volume[\"Drug Regimen\"] == \"Ceftamin\", \"Tumor Volume (mm3)\"]\n",
    "\n",
    "#combined for ploting the boxplot later\n",
    "boxplot_data = [capomulin, ramicane, infubinol, ceftamin]"
   ]
  },
  {
   "cell_type": "code",
   "execution_count": 15,
   "metadata": {},
   "outputs": [
    {
     "data": {
      "text/html": [
       "<div>\n",
       "<style scoped>\n",
       "    .dataframe tbody tr th:only-of-type {\n",
       "        vertical-align: middle;\n",
       "    }\n",
       "\n",
       "    .dataframe tbody tr th {\n",
       "        vertical-align: top;\n",
       "    }\n",
       "\n",
       "    .dataframe thead th {\n",
       "        text-align: right;\n",
       "    }\n",
       "</style>\n",
       "<table border=\"1\" class=\"dataframe\">\n",
       "  <thead>\n",
       "    <tr style=\"text-align: right;\">\n",
       "      <th></th>\n",
       "      <th>Quartile 1</th>\n",
       "      <th>Quartile 3</th>\n",
       "      <th>IQR</th>\n",
       "      <th>Lower Bounds</th>\n",
       "      <th>Upper Bounds</th>\n",
       "      <th>Min</th>\n",
       "      <th>Max</th>\n",
       "    </tr>\n",
       "  </thead>\n",
       "  <tbody>\n",
       "    <tr>\n",
       "      <th>Capomulin</th>\n",
       "      <td>32.377357</td>\n",
       "      <td>40.159220</td>\n",
       "      <td>7.781863</td>\n",
       "      <td>20.704562</td>\n",
       "      <td>51.832015</td>\n",
       "      <td>23.343598</td>\n",
       "      <td>47.685963</td>\n",
       "    </tr>\n",
       "    <tr>\n",
       "      <th>Ramicane</th>\n",
       "      <td>31.560470</td>\n",
       "      <td>40.659006</td>\n",
       "      <td>9.098537</td>\n",
       "      <td>17.912664</td>\n",
       "      <td>54.306811</td>\n",
       "      <td>22.050126</td>\n",
       "      <td>45.220869</td>\n",
       "    </tr>\n",
       "    <tr>\n",
       "      <th>Infubinol</th>\n",
       "      <td>54.048608</td>\n",
       "      <td>65.525743</td>\n",
       "      <td>11.477135</td>\n",
       "      <td>36.832905</td>\n",
       "      <td>82.741446</td>\n",
       "      <td>36.321346</td>\n",
       "      <td>72.226731</td>\n",
       "    </tr>\n",
       "    <tr>\n",
       "      <th>Ceftamin</th>\n",
       "      <td>48.722078</td>\n",
       "      <td>64.299830</td>\n",
       "      <td>15.577752</td>\n",
       "      <td>25.355450</td>\n",
       "      <td>87.666458</td>\n",
       "      <td>45.000000</td>\n",
       "      <td>68.923185</td>\n",
       "    </tr>\n",
       "  </tbody>\n",
       "</table>\n",
       "</div>"
      ],
      "text/plain": [
       "           Quartile 1  Quartile 3        IQR  Lower Bounds  Upper Bounds  \\\n",
       "Capomulin   32.377357   40.159220   7.781863     20.704562     51.832015   \n",
       "Ramicane    31.560470   40.659006   9.098537     17.912664     54.306811   \n",
       "Infubinol   54.048608   65.525743  11.477135     36.832905     82.741446   \n",
       "Ceftamin    48.722078   64.299830  15.577752     25.355450     87.666458   \n",
       "\n",
       "                 Min        Max  \n",
       "Capomulin  23.343598  47.685963  \n",
       "Ramicane   22.050126  45.220869  \n",
       "Infubinol  36.321346  72.226731  \n",
       "Ceftamin   45.000000  68.923185  "
      ]
     },
     "execution_count": 15,
     "metadata": {},
     "output_type": "execute_result"
    },
    {
     "data": {
      "application/javascript": [
       "\n",
       "            setTimeout(function() {\n",
       "                var nbb_cell_id = 15;\n",
       "                var nbb_unformatted_code = \"# Determine outliers using upper and lower bounds\\n\\n# create dataframe for calculating quartiles, IQR, max, min, and lower bounds for each treatment regimen\\ncalculation_data_df = pd.DataFrame({\\n    \\\"Capomulin\\\" : capomulin,\\n    \\\"Ramicane\\\" : ramicane,\\n    \\\"Infubinol\\\" : infubinol,\\n    \\\"Ceftamin\\\" : ceftamin\\n})\\n\\n#calculate quartiles \\nQ1 = calculation_data_df.quantile(0.25)\\nQ3 = calculation_data_df.quantile(0.75)\\n\\n#calculate IQR\\nIQR = Q3 - Q1\\n\\n#calculate min and max\\nmin_volume = calculation_data_df.min()\\nmax_volume = calculation_data_df.max()\\n\\n#establish bounds\\nlower_bounds = (Q1 - (1.5 * IQR))\\nupper_bounds = (Q3 + (1.5 * IQR))\\n\\n#create data frame to display output\\n\\nquartile_data_df = pd.DataFrame({\\n    \\\"Quartile 1\\\" : Q1,\\n    \\\"Quartile 3\\\" : Q3,\\n    \\\"IQR\\\" : IQR,\\n    \\\"Lower Bounds\\\" : lower_bounds,\\n    \\\"Upper Bounds\\\" : upper_bounds,\\n    \\\"Min\\\" : min_volume,\\n    \\\"Max\\\" : max_volume,\\n})\\n\\nquartile_data_df\";\n",
       "                var nbb_formatted_code = \"# Determine outliers using upper and lower bounds\\n\\n# create dataframe for calculating quartiles, IQR, max, min, and lower bounds for each treatment regimen\\ncalculation_data_df = pd.DataFrame(\\n    {\\n        \\\"Capomulin\\\": capomulin,\\n        \\\"Ramicane\\\": ramicane,\\n        \\\"Infubinol\\\": infubinol,\\n        \\\"Ceftamin\\\": ceftamin,\\n    }\\n)\\n\\n# calculate quartiles\\nQ1 = calculation_data_df.quantile(0.25)\\nQ3 = calculation_data_df.quantile(0.75)\\n\\n# calculate IQR\\nIQR = Q3 - Q1\\n\\n# calculate min and max\\nmin_volume = calculation_data_df.min()\\nmax_volume = calculation_data_df.max()\\n\\n# establish bounds\\nlower_bounds = Q1 - (1.5 * IQR)\\nupper_bounds = Q3 + (1.5 * IQR)\\n\\n# create data frame to display output\\n\\nquartile_data_df = pd.DataFrame(\\n    {\\n        \\\"Quartile 1\\\": Q1,\\n        \\\"Quartile 3\\\": Q3,\\n        \\\"IQR\\\": IQR,\\n        \\\"Lower Bounds\\\": lower_bounds,\\n        \\\"Upper Bounds\\\": upper_bounds,\\n        \\\"Min\\\": min_volume,\\n        \\\"Max\\\": max_volume,\\n    }\\n)\\n\\nquartile_data_df\";\n",
       "                var nbb_cells = Jupyter.notebook.get_cells();\n",
       "                for (var i = 0; i < nbb_cells.length; ++i) {\n",
       "                    if (nbb_cells[i].input_prompt_number == nbb_cell_id) {\n",
       "                        if (nbb_cells[i].get_text() == nbb_unformatted_code) {\n",
       "                             nbb_cells[i].set_text(nbb_formatted_code);\n",
       "                        }\n",
       "                        break;\n",
       "                    }\n",
       "                }\n",
       "            }, 500);\n",
       "            "
      ],
      "text/plain": [
       "<IPython.core.display.Javascript object>"
      ]
     },
     "metadata": {},
     "output_type": "display_data"
    }
   ],
   "source": [
    "# Determine outliers using upper and lower bounds\n",
    "\n",
    "# create dataframe for calculating quartiles, IQR, max, min, and lower bounds for each treatment regimen\n",
    "calculation_data_df = pd.DataFrame({\n",
    "    \"Capomulin\" : capomulin,\n",
    "    \"Ramicane\" : ramicane,\n",
    "    \"Infubinol\" : infubinol,\n",
    "    \"Ceftamin\" : ceftamin\n",
    "})\n",
    "\n",
    "#calculate quartiles \n",
    "Q1 = calculation_data_df.quantile(0.25)\n",
    "Q3 = calculation_data_df.quantile(0.75)\n",
    "\n",
    "#calculate IQR\n",
    "IQR = Q3 - Q1\n",
    "\n",
    "#calculate min and max\n",
    "min_volume = calculation_data_df.min()\n",
    "max_volume = calculation_data_df.max()\n",
    "\n",
    "#establish bounds\n",
    "lower_bounds = (Q1 - (1.5 * IQR))\n",
    "upper_bounds = (Q3 + (1.5 * IQR))\n",
    "\n",
    "#create data frame to display output\n",
    "\n",
    "quartile_data_df = pd.DataFrame({\n",
    "    \"Quartile 1\" : Q1,\n",
    "    \"Quartile 3\" : Q3,\n",
    "    \"IQR\" : IQR,\n",
    "    \"Lower Bounds\" : lower_bounds,\n",
    "    \"Upper Bounds\" : upper_bounds,\n",
    "    \"Min\" : min_volume,\n",
    "    \"Max\" : max_volume,\n",
    "})\n",
    "\n",
    "quartile_data_df"
   ]
  },
  {
   "cell_type": "markdown",
   "metadata": {},
   "source": [
    "### Determining Outliers:\n",
    "#### After creating the data frame to check for outliers, it is determined that Infubinol will have at least one outlier. When comparing the maximum and minimum tumor volume to the upper and lower bounds it was discovered on the lower bound of Infubinol. Infubinol has a lower bound of 36.832905 with a minimum tumor volume of 36.321346. This lands this tumor volume just outside the lower bound. The maximum and minimum tumor volumes for Capomulin, Ramicane, and Ceftamin all fall within each treatments respective bounds."
   ]
  },
  {
   "cell_type": "code",
   "execution_count": 32,
   "metadata": {},
   "outputs": [
    {
     "data": {
      "image/png": "[encoded data removed]",
      "text/plain": [
       "<Figure size 432x288 with 1 Axes>"
      ]
     },
     "metadata": {
      "needs_background": "light"
     },
     "output_type": "display_data"
    },
    {
     "data": {
      "application/javascript": [
       "\n",
       "            setTimeout(function() {\n",
       "                var nbb_cell_id = 32;\n",
       "                var nbb_unformatted_code = \"# x-axis boxplot labels\\nlabels = [\\\"Capomulin\\\", \\\"Ramicane\\\", \\\"Infubinol\\\", \\\"Ceftamin\\\"]\\n\\n#formatting for outliers\\noutlier_format = dict(markerfacecolor = \\\"red\\\", marker = \\\"D\\\")\\n\\n#create boxplot\\nplt.title(\\\"Tumor Volume Across Promising Treatment Regimens\\\")\\nplt.ylabel(\\\"Volume in Cubic Millimetres (mm3)\\\")\\nplt.boxplot(boxplot_data, labels=labels, flierprops=outlier_format, patch_artist=True)\\nplt.grid()\\nplt.savefig(\\\"Images/boxplot.png\\\")\\nplt.show()\";\n",
       "                var nbb_formatted_code = \"# x-axis boxplot labels\\nlabels = [\\\"Capomulin\\\", \\\"Ramicane\\\", \\\"Infubinol\\\", \\\"Ceftamin\\\"]\\n\\n# formatting for outliers\\noutlier_format = dict(markerfacecolor=\\\"red\\\", marker=\\\"D\\\")\\n\\n# create boxplot\\nplt.title(\\\"Tumor Volume Across Promising Treatment Regimens\\\")\\nplt.ylabel(\\\"Volume in Cubic Millimetres (mm3)\\\")\\nplt.boxplot(boxplot_data, labels=labels, flierprops=outlier_format, patch_artist=True)\\nplt.grid()\\nplt.savefig(\\\"Images/boxplot.png\\\")\\nplt.show()\";\n",
       "                var nbb_cells = Jupyter.notebook.get_cells();\n",
       "                for (var i = 0; i < nbb_cells.length; ++i) {\n",
       "                    if (nbb_cells[i].input_prompt_number == nbb_cell_id) {\n",
       "                        if (nbb_cells[i].get_text() == nbb_unformatted_code) {\n",
       "                             nbb_cells[i].set_text(nbb_formatted_code);\n",
       "                        }\n",
       "                        break;\n",
       "                    }\n",
       "                }\n",
       "            }, 500);\n",
       "            "
      ],
      "text/plain": [
       "<IPython.core.display.Javascript object>"
      ]
     },
     "metadata": {},
     "output_type": "display_data"
    }
   ],
   "source": [
    "# x-axis boxplot labels\n",
    "labels = [\"Capomulin\", \"Ramicane\", \"Infubinol\", \"Ceftamin\"]\n",
    "\n",
    "#formatting for outliers\n",
    "outlier_format = dict(markerfacecolor = \"red\", marker = \"D\")\n",
    "\n",
    "#create boxplot\n",
    "plt.title(\"Tumor Volume Across Promising Treatment Regimens\")\n",
    "plt.ylabel(\"Volume in Cubic Millimetres (mm3)\")\n",
    "plt.boxplot(boxplot_data, labels=labels, flierprops=outlier_format, patch_artist=True)\n",
    "plt.grid()\n",
    "plt.savefig(\"Images/boxplot.png\")\n",
    "plt.show()"
   ]
  },
  {
   "cell_type": "markdown",
   "metadata": {},
   "source": [
    "## Line and Scatter Plots"
   ]
  },
  {
   "cell_type": "code",
   "execution_count": 33,
   "metadata": {},
   "outputs": [
    {
     "data": {
      "image/png": "[encoded data removed]",
      "text/plain": [
       "<Figure size 432x288 with 1 Axes>"
      ]
     },
     "metadata": {
      "needs_background": "light"
     },
     "output_type": "display_data"
    },
    {
     "data": {
      "application/javascript": [
       "\n",
       "            setTimeout(function() {\n",
       "                var nbb_cell_id = 33;\n",
       "                var nbb_unformatted_code = \"# Generate a line plot of time point versus tumor volume for a mouse treated with Capomulin\\n\\n#create new df for all data with one mouse that had the Capomulin treatment\\ncapomulin_mouse = clean_df[clean_df[\\\"Mouse ID\\\"] == \\\"s185\\\"]\\n\\n#create series for plotting x axis and y axis\\ns185_timepoints = capomulin_mouse[\\\"Timepoint\\\"]\\ns185_tumor_vol = capomulin_mouse[\\\"Tumor Volume (mm3)\\\"]\\n\\n#create line plot\\nplt.title(\\\"Tumor Volume Across Time Points\\\")\\nplt.ylabel(\\\"Volume in Cubic Millimetres (mm3)\\\")\\nplt.xlabel(\\\"Timepoints Across Study (Days)\\\")\\nplt.plot(s185_timepoints, s185_tumor_vol, color=\\\"forestgreen\\\", label=\\\"Mouse s185 (female)\\\", marker=\\\"D\\\")\\nplt.legend()\\nplt.grid()\\nplt.savefig(\\\"Images/line_plot.png\\\")\\nplt.show()\";\n",
       "                var nbb_formatted_code = \"# Generate a line plot of time point versus tumor volume for a mouse treated with Capomulin\\n\\n# create new df for all data with one mouse that had the Capomulin treatment\\ncapomulin_mouse = clean_df[clean_df[\\\"Mouse ID\\\"] == \\\"s185\\\"]\\n\\n# create series for plotting x axis and y axis\\ns185_timepoints = capomulin_mouse[\\\"Timepoint\\\"]\\ns185_tumor_vol = capomulin_mouse[\\\"Tumor Volume (mm3)\\\"]\\n\\n# create line plot\\nplt.title(\\\"Tumor Volume Across Time Points\\\")\\nplt.ylabel(\\\"Volume in Cubic Millimetres (mm3)\\\")\\nplt.xlabel(\\\"Timepoints Across Study (Days)\\\")\\nplt.plot(\\n    s185_timepoints,\\n    s185_tumor_vol,\\n    color=\\\"forestgreen\\\",\\n    label=\\\"Mouse s185 (female)\\\",\\n    marker=\\\"D\\\",\\n)\\nplt.legend()\\nplt.grid()\\nplt.savefig(\\\"Images/line_plot.png\\\")\\nplt.show()\";\n",
       "                var nbb_cells = Jupyter.notebook.get_cells();\n",
       "                for (var i = 0; i < nbb_cells.length; ++i) {\n",
       "                    if (nbb_cells[i].input_prompt_number == nbb_cell_id) {\n",
       "                        if (nbb_cells[i].get_text() == nbb_unformatted_code) {\n",
       "                             nbb_cells[i].set_text(nbb_formatted_code);\n",
       "                        }\n",
       "                        break;\n",
       "                    }\n",
       "                }\n",
       "            }, 500);\n",
       "            "
      ],
      "text/plain": [
       "<IPython.core.display.Javascript object>"
      ]
     },
     "metadata": {},
     "output_type": "display_data"
    }
   ],
   "source": [
    "# Generate a line plot of time point versus tumor volume for a mouse treated with Capomulin\n",
    "\n",
    "#create new df for all data with one mouse that had the Capomulin treatment\n",
    "capomulin_mouse = clean_df[clean_df[\"Mouse ID\"] == \"s185\"]\n",
    "\n",
    "#create series for plotting x axis and y axis\n",
    "s185_timepoints = capomulin_mouse[\"Timepoint\"]\n",
    "s185_tumor_vol = capomulin_mouse[\"Tumor Volume (mm3)\"]\n",
    "\n",
    "#create line plot\n",
    "plt.title(\"Tumor Volume Across Time Points\")\n",
    "plt.ylabel(\"Volume in Cubic Millimetres (mm3)\")\n",
    "plt.xlabel(\"Timepoints Across Study (Days)\")\n",
    "plt.plot(s185_timepoints, s185_tumor_vol, color=\"forestgreen\", label=\"Mouse s185 (female)\", marker=\"D\")\n",
    "plt.legend()\n",
    "plt.grid()\n",
    "plt.savefig(\"Images/line_plot.png\")\n",
    "plt.show()"
   ]
  },
  {
   "cell_type": "code",
   "execution_count": 27,
   "metadata": {},
   "outputs": [
    {
     "data": {
      "image/png": "[encoded data removed]",
      "text/plain": [
       "<Figure size 432x288 with 1 Axes>"
      ]
     },
     "metadata": {
      "needs_background": "light"
     },
     "output_type": "display_data"
    },
    {
     "data": {
      "application/javascript": [
       "\n",
       "            setTimeout(function() {\n",
       "                var nbb_cell_id = 27;\n",
       "                var nbb_unformatted_code = \"# Generate a scatter plot of mouse weight versus average tumor volume for the Capomulin regimen\\n\\n#create df for all mice that were treated with Capomulin\\ncapommulin_data_df = clean_df[clean_df[\\\"Drug Regimen\\\"] == \\\"Capomulin\\\"]\\n\\n#create series for mouse weight and avg tumor volume grouped by mouse id\\nmouse_weight = capommulin_data_df.groupby([\\\"Mouse ID\\\"])[\\\"Weight (g)\\\"].mean()\\navg_tumor_vol = capommulin_data_df.groupby([\\\"Mouse ID\\\"])[\\\"Tumor Volume (mm3)\\\"].mean()\\n\\n#create scatter plot\\nplt.title(\\\"Capomulin: Tumor Volume vs Mouse Weight\\\")\\nplt.scatter(mouse_weight, avg_tumor_vol, color=\\\"darkcyan\\\", label=\\\"Tumor Volume by Mouse Weight\\\")\\nplt.grid()\\nplt.legend()\\nplt.xlabel(\\\"Mouse Weight in Grams (g)\\\")\\nplt.ylabel(\\\"Volume in Cubic Millimetres (mm3)\\\")\\nplt.show()\";\n",
       "                var nbb_formatted_code = \"# Generate a scatter plot of mouse weight versus average tumor volume for the Capomulin regimen\\n\\n# create df for all mice that were treated with Capomulin\\ncapommulin_data_df = clean_df[clean_df[\\\"Drug Regimen\\\"] == \\\"Capomulin\\\"]\\n\\n# create series for mouse weight and avg tumor volume grouped by mouse id\\nmouse_weight = capommulin_data_df.groupby([\\\"Mouse ID\\\"])[\\\"Weight (g)\\\"].mean()\\navg_tumor_vol = capommulin_data_df.groupby([\\\"Mouse ID\\\"])[\\\"Tumor Volume (mm3)\\\"].mean()\\n\\n# create scatter plot\\nplt.title(\\\"Capomulin: Tumor Volume vs Mouse Weight\\\")\\nplt.scatter(\\n    mouse_weight, avg_tumor_vol, color=\\\"darkcyan\\\", label=\\\"Tumor Volume by Mouse Weight\\\"\\n)\\nplt.grid()\\nplt.legend()\\nplt.xlabel(\\\"Mouse Weight in Grams (g)\\\")\\nplt.ylabel(\\\"Volume in Cubic Millimetres (mm3)\\\")\\nplt.show()\";\n",
       "                var nbb_cells = Jupyter.notebook.get_cells();\n",
       "                for (var i = 0; i < nbb_cells.length; ++i) {\n",
       "                    if (nbb_cells[i].input_prompt_number == nbb_cell_id) {\n",
       "                        if (nbb_cells[i].get_text() == nbb_unformatted_code) {\n",
       "                             nbb_cells[i].set_text(nbb_formatted_code);\n",
       "                        }\n",
       "                        break;\n",
       "                    }\n",
       "                }\n",
       "            }, 500);\n",
       "            "
      ],
      "text/plain": [
       "<IPython.core.display.Javascript object>"
      ]
     },
     "metadata": {},
     "output_type": "display_data"
    }
   ],
   "source": [
    "# Generate a scatter plot of mouse weight versus average tumor volume for the Capomulin regimen\n",
    "\n",
    "#create df for all mice that were treated with Capomulin\n",
    "capommulin_data_df = clean_df[clean_df[\"Drug Regimen\"] == \"Capomulin\"]\n",
    "\n",
    "#create series for mouse weight and avg tumor volume grouped by mouse id\n",
    "mouse_weight = capommulin_data_df.groupby([\"Mouse ID\"])[\"Weight (g)\"].mean()\n",
    "avg_tumor_vol = capommulin_data_df.groupby([\"Mouse ID\"])[\"Tumor Volume (mm3)\"].mean()\n",
    "\n",
    "#create scatter plot\n",
    "plt.title(\"Capomulin: Tumor Volume vs Mouse Weight\")\n",
    "plt.scatter(mouse_weight, avg_tumor_vol, color=\"darkcyan\", label=\"Tumor Volume by Mouse Weight\")\n",
    "plt.grid()\n",
    "plt.legend()\n",
    "plt.xlabel(\"Mouse Weight in Grams (g)\")\n",
    "plt.ylabel(\"Volume in Cubic Millimetres (mm3)\")\n",
    "plt.show()"
   ]
  },
  {
   "cell_type": "markdown",
   "metadata": {},
   "source": [
    "## Correlation and Regression"
   ]
  },
  {
   "cell_type": "code",
   "execution_count": 19,
   "metadata": {},
   "outputs": [
    {
     "data": {
      "text/plain": [
       "array([0.95443969])"
      ]
     },
     "execution_count": 19,
     "metadata": {},
     "output_type": "execute_result"
    },
    {
     "data": {
      "application/javascript": [
       "\n",
       "            setTimeout(function() {\n",
       "                var nbb_cell_id = 19;\n",
       "                var nbb_unformatted_code = \"# Calculate the correlation coefficient and linear regression model \\n# for mouse weight and average tumor volume for the Capomulin regimen\\n\\n#create x and y for training the model\\nX = [[e] for e in mouse_weight]\\ny = avg_tumor_vol\\n\\n#estabish model\\nmodel = LinearRegression()\\n\\n#fit and train the model\\nmodel.fit(X, y)\\n\\n#calculate correlation coefficient\\nmodel.coef_\";\n",
       "                var nbb_formatted_code = \"# Calculate the correlation coefficient and linear regression model\\n# for mouse weight and average tumor volume for the Capomulin regimen\\n\\n# create x and y for training the model\\nX = [[e] for e in mouse_weight]\\ny = avg_tumor_vol\\n\\n# estabish model\\nmodel = LinearRegression()\\n\\n# fit and train the model\\nmodel.fit(X, y)\\n\\n# calculate correlation coefficient\\nmodel.coef_\";\n",
       "                var nbb_cells = Jupyter.notebook.get_cells();\n",
       "                for (var i = 0; i < nbb_cells.length; ++i) {\n",
       "                    if (nbb_cells[i].input_prompt_number == nbb_cell_id) {\n",
       "                        if (nbb_cells[i].get_text() == nbb_unformatted_code) {\n",
       "                             nbb_cells[i].set_text(nbb_formatted_code);\n",
       "                        }\n",
       "                        break;\n",
       "                    }\n",
       "                }\n",
       "            }, 500);\n",
       "            "
      ],
      "text/plain": [
       "<IPython.core.display.Javascript object>"
      ]
     },
     "metadata": {},
     "output_type": "display_data"
    }
   ],
   "source": [
    "# Calculate the correlation coefficient and linear regression model \n",
    "# for mouse weight and average tumor volume for the Capomulin regimen\n",
    "\n",
    "#create x and y for training the model\n",
    "X = [[e] for e in mouse_weight]\n",
    "y = avg_tumor_vol\n",
    "\n",
    "#estabish model\n",
    "model = LinearRegression()\n",
    "\n",
    "#fit and train the model\n",
    "model.fit(X, y)\n",
    "\n",
    "#calculate correlation coefficient and display\n",
    "model.coef_"
   ]
  },
  {
   "cell_type": "code",
   "execution_count": 22,
   "metadata": {},
   "outputs": [
    {
     "data": {
      "text/plain": [
       "36.82319555707069"
      ]
     },
     "execution_count": 22,
     "metadata": {},
     "output_type": "execute_result"
    },
    {
     "data": {
      "application/javascript": [
       "\n",
       "            setTimeout(function() {\n",
       "                var nbb_cell_id = 22;\n",
       "                var nbb_unformatted_code = \"#create predict funtion for plotting\\ndef predict_function(mouse_weight):\\n    return model.predict([[mouse_weight]])[0]\\n\\n#test model\\nmodel.predict([[16]])[0]\";\n",
       "                var nbb_formatted_code = \"# create predict funtion for plotting\\ndef predict_function(mouse_weight):\\n    return model.predict([[mouse_weight]])[0]\\n\\n\\n# test model\\nmodel.predict([[16]])[0]\";\n",
       "                var nbb_cells = Jupyter.notebook.get_cells();\n",
       "                for (var i = 0; i < nbb_cells.length; ++i) {\n",
       "                    if (nbb_cells[i].input_prompt_number == nbb_cell_id) {\n",
       "                        if (nbb_cells[i].get_text() == nbb_unformatted_code) {\n",
       "                             nbb_cells[i].set_text(nbb_formatted_code);\n",
       "                        }\n",
       "                        break;\n",
       "                    }\n",
       "                }\n",
       "            }, 500);\n",
       "            "
      ],
      "text/plain": [
       "<IPython.core.display.Javascript object>"
      ]
     },
     "metadata": {},
     "output_type": "display_data"
    }
   ],
   "source": [
    "#create predict funtion for plotting\n",
    "def predict_function(mouse_weight):\n",
    "    return model.predict([[mouse_weight]])[0]\n",
    "\n",
    "#test model\n",
    "model.predict([[16]])[0]"
   ]
  },
  {
   "cell_type": "code",
   "execution_count": 35,
   "metadata": {},
   "outputs": [
    {
     "data": {
      "image/png": "[encoded data removed]",
      "text/plain": [
       "<Figure size 432x288 with 1 Axes>"
      ]
     },
     "metadata": {
      "needs_background": "light"
     },
     "output_type": "display_data"
    },
    {
     "data": {
      "application/javascript": [
       "\n",
       "            setTimeout(function() {\n",
       "                var nbb_cell_id = 35;\n",
       "                var nbb_unformatted_code = \"#create range and predict for plotting\\nx_range = np.arange(min(mouse_weight), max(mouse_weight), 0.01)\\npredict_tumor_vol = [predict_function(e) for e in x_range]\\n\\n#create variables for y-ticks\\nmin_y = min(avg_tumor_vol)\\nmax_y = max(avg_tumor_vol)\\n\\n#use previous scatter plot and include linear regression model\\nplt.title(\\\"Capomulin: Tumor Volume vs Mouse Weight\\\")\\nplt.scatter(mouse_weight, avg_tumor_vol, color=\\\"darkcyan\\\", label=\\\"Tumor Volume by Mouse Weight\\\")\\nplt.grid()\\nplt.xlabel(\\\"Mouse Weight in Grams (g)\\\")\\nplt.ylabel(\\\"Volume in Cubic Millimetres (mm3)\\\")\\nplt.plot(x_range, predict_tumor_vol, color=\\\"darkred\\\", label=\\\"Linear Regression Model\\\")\\nplt.legend()\\nplt.savefig(\\\"Images/scatter_plot.png\\\")\\nplt.show()\";\n",
       "                var nbb_formatted_code = \"# create range and predict for plotting\\nx_range = np.arange(min(mouse_weight), max(mouse_weight), 0.01)\\npredict_tumor_vol = [predict_function(e) for e in x_range]\\n\\n# create variables for y-ticks\\nmin_y = min(avg_tumor_vol)\\nmax_y = max(avg_tumor_vol)\\n\\n# use previous scatter plot and include linear regression model\\nplt.title(\\\"Capomulin: Tumor Volume vs Mouse Weight\\\")\\nplt.scatter(\\n    mouse_weight, avg_tumor_vol, color=\\\"darkcyan\\\", label=\\\"Tumor Volume by Mouse Weight\\\"\\n)\\nplt.grid()\\nplt.xlabel(\\\"Mouse Weight in Grams (g)\\\")\\nplt.ylabel(\\\"Volume in Cubic Millimetres (mm3)\\\")\\nplt.plot(x_range, predict_tumor_vol, color=\\\"darkred\\\", label=\\\"Linear Regression Model\\\")\\nplt.legend()\\nplt.savefig(\\\"Images/scatter_plot.png\\\")\\nplt.show()\";\n",
       "                var nbb_cells = Jupyter.notebook.get_cells();\n",
       "                for (var i = 0; i < nbb_cells.length; ++i) {\n",
       "                    if (nbb_cells[i].input_prompt_number == nbb_cell_id) {\n",
       "                        if (nbb_cells[i].get_text() == nbb_unformatted_code) {\n",
       "                             nbb_cells[i].set_text(nbb_formatted_code);\n",
       "                        }\n",
       "                        break;\n",
       "                    }\n",
       "                }\n",
       "            }, 500);\n",
       "            "
      ],
      "text/plain": [
       "<IPython.core.display.Javascript object>"
      ]
     },
     "metadata": {},
     "output_type": "display_data"
    }
   ],
   "source": [
    "#create range and predict for plotting\n",
    "x_range = np.arange(min(mouse_weight), max(mouse_weight), 0.01)\n",
    "predict_tumor_vol = [predict_function(e) for e in x_range]\n",
    "\n",
    "#create variables for y-ticks\n",
    "min_y = min(avg_tumor_vol)\n",
    "max_y = max(avg_tumor_vol)\n",
    "\n",
    "#use previous scatter plot and include linear regression model\n",
    "plt.title(\"Capomulin: Tumor Volume vs Mouse Weight\")\n",
    "plt.scatter(mouse_weight, avg_tumor_vol, color=\"darkcyan\", label=\"Tumor Volume by Mouse Weight\")\n",
    "plt.grid()\n",
    "plt.xlabel(\"Mouse Weight in Grams (g)\")\n",
    "plt.ylabel(\"Volume in Cubic Millimetres (mm3)\")\n",
    "plt.plot(x_range, predict_tumor_vol, color=\"darkred\", label=\"Linear Regression Model\")\n",
    "plt.legend()\n",
    "plt.savefig(\"Images/scatter_plot.png\")\n",
    "plt.show()"
   ]
  },
  {
   "cell_type": "code",
   "execution_count": null,
   "metadata": {},
   "outputs": [],
   "source": []
  }
 ],
 "metadata": {
  "anaconda-cloud": {},
  "environment": {
   "name": "common-cpu.m54",
   "type": "gcloud",
   "uri": "gcr.io/deeplearning-platform-release/base-cpu:m54"
  },
  "kernelspec": {
   "display_name": "Python 3",
   "language": "python",
   "name": "python3"
  },
  "language_info": {
   "codemirror_mode": {
    "name": "ipython",
    "version": 3
   },
   "file_extension": ".py",
   "mimetype": "text/x-python",
   "name": "python",
   "nbconvert_exporter": "python",
   "pygments_lexer": "ipython3",
   "version": "3.7.8"
  }
 },
 "nbformat": 4,
 "nbformat_minor": 4
}
